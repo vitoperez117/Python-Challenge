{
 "cells": [
  {
   "cell_type": "code",
   "execution_count": 17,
   "metadata": {},
   "outputs": [
    {
     "name": "stdout",
     "output_type": "stream",
     "text": [
      "Financial Analysis\n",
      "---------------------------\n",
      "['Jan-2010', '867884']\n",
      "37514694.0\n"
     ]
    }
   ],
   "source": [
    "#import dependecies\n",
    "import os\n",
    "#module for reading CSV files\n",
    "import csv\n",
    "import math\n",
    "\n",
    "budget_file = os.path.join('budget_data.csv')\n",
    "\n",
    "#using csv module to read data\n",
    "with open(budget_file, newline ='') as csvfile:\n",
    "    #csv reader specifies delimiter and variable that holds contents\n",
    "    csvreader = csv.reader(csvfile, delimiter = ',')\n",
    "    \n",
    "    print(\"Financial Analysis\")\n",
    "    print(\"---------------------------\")\n",
    "    \n",
    "    #Counter for the total of the months\n",
    "    #This code works\n",
    "    header = next(csvreader)\n",
    "#     data = list(csvreader)\n",
    "#     row_count = len(data)\n",
    "    print(next(csvreader))\n",
    "    #print (\"Total Months: \" + str(row_count))\n",
    "    \n",
    "    total = 0\n",
    "    for row in csvreader:\n",
    "        total += float(row[1])\n",
    "        \n",
    "print (total)"
   ]
  },
  {
   "cell_type": "code",
   "execution_count": 22,
   "metadata": {},
   "outputs": [
    {
     "name": "stdout",
     "output_type": "stream",
     "text": [
      "Total Amount of Profits/Losses: 38382578.0\n"
     ]
    }
   ],
   "source": [
    "with open(budget_file, newline ='') as csvfile:\n",
    "    #csv reader specifies delimiter and variable that holds contents\n",
    "    csvreader = csv.reader(csvfile, delimiter = ',')\n",
    "    totalAmount = 0\n",
    "    next(csvreader)\n",
    "    for row in csvreader:\n",
    "        index_Profit_Loss = 1\n",
    "        float_index_Profit_Loss = float(row[index_Profit_Loss])\n",
    "        totalAmount += float_index_Profit_Loss\n",
    "print(f\"Total Amount of Profits/Losses: {totalAmount}\")"
   ]
  },
  {
   "cell_type": "code",
   "execution_count": null,
   "metadata": {},
   "outputs": [],
   "source": []
  }
 ],
 "metadata": {
  "kernelspec": {
   "display_name": "Python 3",
   "language": "python",
   "name": "python3"
  },
  "language_info": {
   "codemirror_mode": {
    "name": "ipython",
    "version": 3
   },
   "file_extension": ".py",
   "mimetype": "text/x-python",
   "name": "python",
   "nbconvert_exporter": "python",
   "pygments_lexer": "ipython3",
   "version": "3.6.7"
  }
 },
 "nbformat": 4,
 "nbformat_minor": 2
}
